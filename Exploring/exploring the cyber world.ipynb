{
 "cells": [
  {
   "metadata": {},
   "cell_type": "code",
   "source": "arr = [320770140, 975139637, 922176515, 84686350, 666031800, 944710120, 799509168, 734314794, 500210866, 971570335, 299032103, 42303520, 649547107, 331599821, 62150048, 175204475, 489536375, 863559594, 469899622, 107868387]",
   "id": "e4a36969c6d1981a",
   "outputs": [],
   "execution_count": null
  },
  {
   "metadata": {},
   "cell_type": "code",
   "source": "m1 = max(arr)",
   "id": "8c0821ff744da083",
   "outputs": [],
   "execution_count": null
  },
  {
   "metadata": {},
   "cell_type": "code",
   "source": "arr.remove(m1)",
   "id": "fb2194fca20d050a",
   "outputs": [],
   "execution_count": null
  },
  {
   "metadata": {},
   "cell_type": "code",
   "source": "m2 = max(arr)",
   "id": "2519301b913e72a3",
   "outputs": [],
   "execution_count": null
  },
  {
   "metadata": {},
   "cell_type": "code",
   "source": "m1*m2",
   "id": "d01001d73c548682",
   "outputs": [],
   "execution_count": null
  },
  {
   "metadata": {},
   "cell_type": "code",
   "source": "7.867813110351562e-06 > 3.814697265625e-06",
   "id": "8d7c0c17d4a234f0",
   "outputs": [],
   "execution_count": null
  },
  {
   "metadata": {},
   "cell_type": "code",
   "source": "1.001_358_032_226_562_5e-05 > 6.914_138_793_945_312_5e-06",
   "id": "bf847e10aeb6820d",
   "outputs": [],
   "execution_count": null
  },
  {
   "metadata": {},
   "cell_type": "code",
   "source": "3.62396240234375e-05 < 0.144301176071167",
   "id": "292a2eec4ddfe97e",
   "outputs": [],
   "execution_count": null
  },
  {
   "metadata": {},
   "cell_type": "code",
   "source": "1 == 1",
   "id": "32a02d7bb2a6ecff",
   "outputs": [],
   "execution_count": null
  },
  {
   "metadata": {},
   "cell_type": "code",
   "source": "1 is 1",
   "id": "406898b4d295b38c",
   "outputs": [],
   "execution_count": null
  },
  {
   "metadata": {},
   "cell_type": "code",
   "source": [
    "a = 1\n",
    "b = 1\n",
    "c = a\n",
    "\n",
    "\n",
    "\n",
    "\n",
    "a == c"
   ],
   "id": "b56bbb79b92c0a73",
   "outputs": [],
   "execution_count": null
  },
  {
   "metadata": {},
   "cell_type": "code",
   "source": "a is b",
   "id": "2ece9e27904baf58",
   "outputs": [],
   "execution_count": null
  },
  {
   "metadata": {},
   "cell_type": "code",
   "source": "c is a",
   "id": "86d29baa17457e5e",
   "outputs": [],
   "execution_count": null
  },
  {
   "metadata": {},
   "cell_type": "code",
   "source": "a is c",
   "id": "fd50fa2ba3d0680b",
   "outputs": [],
   "execution_count": null
  },
  {
   "metadata": {},
   "cell_type": "code",
   "source": [
    "import time as t\n",
    "n = 100000\n",
    "start = t.time()\n",
    "expected_sum = n*(n+1)//2\n",
    "actual_sum = sum(arr)\n",
    "num = expected_sum - actual_sum\n",
    "print(num)\n",
    "stop = t.time()\n",
    "s = stop - start\n",
    "print(s)"
   ],
   "id": "45c152ca9b24f349",
   "outputs": [],
   "execution_count": null
  },
  {
   "metadata": {},
   "cell_type": "code",
   "source": [
    "import time as t\n",
    "\n",
    "def removenum(arr, num):\n",
    "    v = 0\n",
    "    dum = []\n",
    "    for i in arr:\n",
    "        if i%10 == num:\n",
    "            v += 1\n",
    "            continue\n",
    "        else:\n",
    "            dum.append(i)\n",
    "    while v != 0:\n",
    "        n = dum[-1] + 1\n",
    "        if n%10 == num:\n",
    "            dum.append(n+1)\n",
    "            v -= 1\n",
    "        else:\n",
    "            dum.append(n)\n",
    "            v -= 1\n",
    "    return dum\n",
    "\n",
    "start = t.time()\n",
    "m = 100 #int(input(\"Length? \"))\n",
    "num = 1 #int(input(\"No. TO avoid? \"))\n",
    "arr = list(range(1, m+1))\n",
    "n = removenum(arr, num)\n",
    "print(n)\n",
    "stop = t.time()\n",
    "print(stop - start)\n",
    "    "
   ],
   "id": "ce207f4944c2df9",
   "outputs": [],
   "execution_count": null
  },
  {
   "metadata": {},
   "cell_type": "markdown",
   "source": "",
   "id": "243b992feebeff9b"
  },
  {
   "metadata": {},
   "cell_type": "code",
   "source": [
    "start = t.time()\n",
    "m = 100\n",
    "num = 1\n",
    "count = 0\n",
    "for i in range(1,m*2):\n",
    "    if i%10 == num:\n",
    "        continue\n",
    "    print(i, end=\",\")\n",
    "    count += 1\n",
    "    if count == m:\n",
    "        break\n",
    "stop = t.time()\n",
    "print(stop - start)"
   ],
   "id": "26071be6edeaeb1e",
   "outputs": [],
   "execution_count": null
  },
  {
   "metadata": {},
   "cell_type": "code",
   "source": "9.894371032714844e-05 < 0.00032711029052734375 ",
   "id": "f923365402ff7a2f",
   "outputs": [],
   "execution_count": null
  },
  {
   "metadata": {},
   "cell_type": "code",
   "source": "1.4066696166992188e-05 < 1.71661376953125e-05",
   "id": "5939458e868d4466",
   "outputs": [],
   "execution_count": null
  },
  {
   "metadata": {},
   "cell_type": "code",
   "source": [
    "# Create a dictionary to store characters as keys and ASCII values as values\n",
    "ascii_dict = {}\n",
    "\n",
    "# Populate the dictionary with characters as keys and ASCII values as values\n",
    "for i in range(32, 128):  # ASCII values range from 0 to 127\n",
    "    ascii_dict[chr(i)] = i\n",
    "\n",
    "# Print the dictionary\n",
    "print(ascii_dict)\n",
    "\n",
    "\n"
   ],
   "id": "35c6c723e4a268bf",
   "outputs": [],
   "execution_count": null
  },
  {
   "metadata": {},
   "cell_type": "code",
   "source": [
    "m = 100\n",
    "num = 1\n",
    "count = 0\n",
    "while count<m:\n",
    "    if i%10 == num:\n",
    "        continue\n",
    "    print(i, end=\",\")\n",
    "    count += 1\n",
    "    if count == m:\n",
    "        break"
   ],
   "id": "1b82d8b40596a8da",
   "outputs": [],
   "execution_count": null
  },
  {
   "metadata": {},
   "cell_type": "code",
   "source": "6.175041198730469e-05 > 2.6941299438476562e-05",
   "id": "b0e84b78136603d3",
   "outputs": [],
   "execution_count": null
  },
  {
   "metadata": {
    "ExecuteTime": {
     "end_time": "2024-11-24T13:27:32.362317Z",
     "start_time": "2024-11-24T13:27:32.357020Z"
    }
   },
   "cell_type": "code",
   "source": [
    "string = \"AABCAAADA\"\n",
    "k = 3\n",
    "subString = []\n",
    "op = []\n",
    "for i in range(0, len(string), k):\n",
    "    subString.append(string[i:i+k])\n",
    "print(subString)\n",
    "for j in subString:\n",
    "    \n",
    "    op.append(\"\".join(list(set(list(j)))))    \n",
    "\n",
    "        "
   ],
   "id": "893e7d8587472d09",
   "outputs": [
    {
     "name": "stdout",
     "output_type": "stream",
     "text": [
      "['AAB', 'CAA', 'ADA']\n",
      "['BA', 'CA', 'DA']\n"
     ]
    }
   ],
   "execution_count": 8
  },
  {
   "metadata": {},
   "cell_type": "code",
   "outputs": [],
   "execution_count": null,
   "source": "",
   "id": "67ec005e38b09631"
  }
 ],
 "metadata": {
  "kernelspec": {
   "display_name": "Python 3",
   "language": "python",
   "name": "python3"
  },
  "language_info": {
   "codemirror_mode": {
    "name": "ipython",
    "version": 2
   },
   "file_extension": ".py",
   "mimetype": "text/x-python",
   "name": "python",
   "nbconvert_exporter": "python",
   "pygments_lexer": "ipython2",
   "version": "2.7.6"
  }
 },
 "nbformat": 4,
 "nbformat_minor": 5
}
