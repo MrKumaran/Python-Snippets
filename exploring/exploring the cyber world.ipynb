{
 "cells": [
  {
   "metadata": {
    "ExecuteTime": {
     "end_time": "2024-09-15T14:06:39.956832Z",
     "start_time": "2024-09-15T14:06:39.952258Z"
    }
   },
   "cell_type": "code",
   "source": "arr = [320770140, 975139637, 922176515, 84686350, 666031800, 944710120, 799509168, 734314794, 500210866, 971570335, 299032103, 42303520, 649547107, 331599821, 62150048, 175204475, 489536375, 863559594, 469899622, 107868387]",
   "id": "e4a36969c6d1981a",
   "outputs": [],
   "execution_count": 1
  },
  {
   "metadata": {
    "ExecuteTime": {
     "end_time": "2024-09-15T14:06:40.293319Z",
     "start_time": "2024-09-15T14:06:40.289999Z"
    }
   },
   "cell_type": "code",
   "source": "m1 = max(arr)",
   "id": "8c0821ff744da083",
   "outputs": [],
   "execution_count": 2
  },
  {
   "metadata": {
    "ExecuteTime": {
     "end_time": "2024-09-15T14:06:40.582158Z",
     "start_time": "2024-09-15T14:06:40.579277Z"
    }
   },
   "cell_type": "code",
   "source": "arr.remove(m1)",
   "id": "fb2194fca20d050a",
   "outputs": [],
   "execution_count": 3
  },
  {
   "metadata": {
    "ExecuteTime": {
     "end_time": "2024-09-15T14:06:40.650921Z",
     "start_time": "2024-09-15T14:06:40.648039Z"
    }
   },
   "cell_type": "code",
   "source": "m2 = max(arr)",
   "id": "2519301b913e72a3",
   "outputs": [],
   "execution_count": 4
  },
  {
   "metadata": {
    "ExecuteTime": {
     "end_time": "2024-09-15T14:06:40.658938Z",
     "start_time": "2024-09-15T14:06:40.654689Z"
    }
   },
   "cell_type": "code",
   "source": "m1*m2",
   "id": "d01001d73c548682",
   "outputs": [
    {
     "data": {
      "text/plain": [
       "947416743791868395"
      ]
     },
     "execution_count": 5,
     "metadata": {},
     "output_type": "execute_result"
    }
   ],
   "execution_count": 5
  },
  {
   "metadata": {
    "ExecuteTime": {
     "end_time": "2024-09-15T14:06:40.662160Z",
     "start_time": "2024-09-15T14:06:40.659893Z"
    }
   },
   "cell_type": "code",
   "source": "7.867813110351562e-06 > 3.814697265625e-06",
   "id": "8d7c0c17d4a234f0",
   "outputs": [
    {
     "data": {
      "text/plain": [
       "True"
      ]
     },
     "execution_count": 6,
     "metadata": {},
     "output_type": "execute_result"
    }
   ],
   "execution_count": 6
  },
  {
   "metadata": {
    "ExecuteTime": {
     "end_time": "2024-09-15T14:06:40.690457Z",
     "start_time": "2024-09-15T14:06:40.688149Z"
    }
   },
   "cell_type": "code",
   "source": "1.001_358_032_226_562_5e-05 > 6.914_138_793_945_312_5e-06",
   "id": "bf847e10aeb6820d",
   "outputs": [
    {
     "data": {
      "text/plain": [
       "True"
      ]
     },
     "execution_count": 7,
     "metadata": {},
     "output_type": "execute_result"
    }
   ],
   "execution_count": 7
  },
  {
   "metadata": {
    "ExecuteTime": {
     "end_time": "2024-09-15T14:06:40.778280Z",
     "start_time": "2024-09-15T14:06:40.774652Z"
    }
   },
   "cell_type": "code",
   "source": "3.62396240234375e-05 < 0.144301176071167",
   "id": "292a2eec4ddfe97e",
   "outputs": [
    {
     "data": {
      "text/plain": [
       "True"
      ]
     },
     "execution_count": 8,
     "metadata": {},
     "output_type": "execute_result"
    }
   ],
   "execution_count": 8
  },
  {
   "metadata": {
    "ExecuteTime": {
     "end_time": "2024-09-15T14:13:58.177421Z",
     "start_time": "2024-09-15T14:13:58.174081Z"
    }
   },
   "cell_type": "code",
   "source": "1 == 1",
   "id": "32a02d7bb2a6ecff",
   "outputs": [
    {
     "data": {
      "text/plain": [
       "True"
      ]
     },
     "execution_count": 9,
     "metadata": {},
     "output_type": "execute_result"
    }
   ],
   "execution_count": 9
  },
  {
   "metadata": {
    "ExecuteTime": {
     "end_time": "2024-09-15T14:14:02.477639Z",
     "start_time": "2024-09-15T14:14:02.468993Z"
    }
   },
   "cell_type": "code",
   "source": "1 is 1",
   "id": "406898b4d295b38c",
   "outputs": [
    {
     "name": "stderr",
     "output_type": "stream",
     "text": [
      "<>:1: SyntaxWarning: \"is\" with a literal. Did you mean \"==\"?\n",
      "<>:1: SyntaxWarning: \"is\" with a literal. Did you mean \"==\"?\n",
      "/var/folders/sy/f2704z7d3vvblr_47mhcznfm0000gn/T/ipykernel_26777/3497154638.py:1: SyntaxWarning: \"is\" with a literal. Did you mean \"==\"?\n",
      "  1 is 1\n"
     ]
    },
    {
     "data": {
      "text/plain": [
       "True"
      ]
     },
     "execution_count": 10,
     "metadata": {},
     "output_type": "execute_result"
    }
   ],
   "execution_count": 10
  },
  {
   "metadata": {
    "ExecuteTime": {
     "end_time": "2024-09-15T14:15:35.905410Z",
     "start_time": "2024-09-15T14:15:35.900329Z"
    }
   },
   "cell_type": "code",
   "source": [
    "a = 1\n",
    "b = 1\n",
    "c = a\n",
    "\n",
    "\n",
    "\n",
    "\n",
    "a == c"
   ],
   "id": "b56bbb79b92c0a73",
   "outputs": [
    {
     "data": {
      "text/plain": [
       "True"
      ]
     },
     "execution_count": 16,
     "metadata": {},
     "output_type": "execute_result"
    }
   ],
   "execution_count": 16
  },
  {
   "metadata": {
    "ExecuteTime": {
     "end_time": "2024-09-15T14:15:11.781163Z",
     "start_time": "2024-09-15T14:15:11.777387Z"
    }
   },
   "cell_type": "code",
   "source": "a is b",
   "id": "2ece9e27904baf58",
   "outputs": [
    {
     "data": {
      "text/plain": [
       "True"
      ]
     },
     "execution_count": 12,
     "metadata": {},
     "output_type": "execute_result"
    }
   ],
   "execution_count": 12
  },
  {
   "metadata": {
    "ExecuteTime": {
     "end_time": "2024-09-15T14:15:18.921342Z",
     "start_time": "2024-09-15T14:15:18.917426Z"
    }
   },
   "cell_type": "code",
   "source": "c is a",
   "id": "86d29baa17457e5e",
   "outputs": [
    {
     "data": {
      "text/plain": [
       "True"
      ]
     },
     "execution_count": 13,
     "metadata": {},
     "output_type": "execute_result"
    }
   ],
   "execution_count": 13
  },
  {
   "metadata": {
    "ExecuteTime": {
     "end_time": "2024-09-15T14:15:25.037588Z",
     "start_time": "2024-09-15T14:15:25.033747Z"
    }
   },
   "cell_type": "code",
   "source": "a is c",
   "id": "fd50fa2ba3d0680b",
   "outputs": [
    {
     "data": {
      "text/plain": [
       "True"
      ]
     },
     "execution_count": 14,
     "metadata": {},
     "output_type": "execute_result"
    }
   ],
   "execution_count": 14
  },
  {
   "metadata": {
    "ExecuteTime": {
     "end_time": "2024-09-15T14:15:33.877446Z",
     "start_time": "2024-09-15T14:15:33.874739Z"
    }
   },
   "cell_type": "code",
   "source": "a == b\n",
   "id": "dbfecfdcc5643e71",
   "outputs": [
    {
     "data": {
      "text/plain": [
       "True"
      ]
     },
     "execution_count": 15,
     "metadata": {},
     "output_type": "execute_result"
    }
   ],
   "execution_count": 15
  },
  {
   "metadata": {},
   "cell_type": "code",
   "outputs": [],
   "execution_count": null,
   "source": "",
   "id": "45c152ca9b24f349"
  }
 ],
 "metadata": {
  "kernelspec": {
   "display_name": "Python 3",
   "language": "python",
   "name": "python3"
  },
  "language_info": {
   "codemirror_mode": {
    "name": "ipython",
    "version": 2
   },
   "file_extension": ".py",
   "mimetype": "text/x-python",
   "name": "python",
   "nbconvert_exporter": "python",
   "pygments_lexer": "ipython2",
   "version": "2.7.6"
  }
 },
 "nbformat": 4,
 "nbformat_minor": 5
}
