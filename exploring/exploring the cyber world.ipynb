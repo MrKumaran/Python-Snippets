{
 "cells": [
  {
   "metadata": {},
   "cell_type": "code",
   "source": "arr = [320770140, 975139637, 922176515, 84686350, 666031800, 944710120, 799509168, 734314794, 500210866, 971570335, 299032103, 42303520, 649547107, 331599821, 62150048, 175204475, 489536375, 863559594, 469899622, 107868387]",
   "id": "e4a36969c6d1981a",
   "outputs": [],
   "execution_count": null
  },
  {
   "metadata": {},
   "cell_type": "code",
   "source": "m1 = max(arr)",
   "id": "8c0821ff744da083",
   "outputs": [],
   "execution_count": null
  },
  {
   "metadata": {},
   "cell_type": "code",
   "source": "arr.remove(m1)",
   "id": "fb2194fca20d050a",
   "outputs": [],
   "execution_count": null
  },
  {
   "metadata": {},
   "cell_type": "code",
   "source": "m2 = max(arr)",
   "id": "2519301b913e72a3",
   "outputs": [],
   "execution_count": null
  },
  {
   "metadata": {},
   "cell_type": "code",
   "source": "m1*m2",
   "id": "d01001d73c548682",
   "outputs": [],
   "execution_count": null
  },
  {
   "metadata": {
    "ExecuteTime": {
     "end_time": "2024-09-01T17:06:57.994558Z",
     "start_time": "2024-09-01T17:06:57.989562Z"
    }
   },
   "cell_type": "code",
   "source": "7.867813110351562e-06 > 3.814697265625e-06",
   "id": "8d7c0c17d4a234f0",
   "outputs": [
    {
     "data": {
      "text/plain": [
       "True"
      ]
     },
     "execution_count": 7,
     "metadata": {},
     "output_type": "execute_result"
    }
   ],
   "execution_count": 7
  },
  {
   "metadata": {
    "ExecuteTime": {
     "end_time": "2024-09-01T17:06:42.759990Z",
     "start_time": "2024-09-01T17:06:42.755267Z"
    }
   },
   "cell_type": "code",
   "source": "1.001_358_032_226_562_5e-05 > 6.914_138_793_945_312_5e-06",
   "id": "bf847e10aeb6820d",
   "outputs": [
    {
     "data": {
      "text/plain": [
       "True"
      ]
     },
     "execution_count": 6,
     "metadata": {},
     "output_type": "execute_result"
    }
   ],
   "execution_count": 6
  },
  {
   "metadata": {
    "ExecuteTime": {
     "end_time": "2024-09-01T17:06:34.769740Z",
     "start_time": "2024-09-01T17:06:34.764432Z"
    }
   },
   "cell_type": "code",
   "source": "3.62396240234375e-05 < 0.144301176071167",
   "id": "292a2eec4ddfe97e",
   "outputs": [
    {
     "data": {
      "text/plain": [
       "True"
      ]
     },
     "execution_count": 5,
     "metadata": {},
     "output_type": "execute_result"
    }
   ],
   "execution_count": 5
  },
  {
   "metadata": {},
   "cell_type": "code",
   "source": "",
   "id": "32a02d7bb2a6ecff",
   "outputs": [],
   "execution_count": null
  }
 ],
 "metadata": {
  "kernelspec": {
   "display_name": "Python 3",
   "language": "python",
   "name": "python3"
  },
  "language_info": {
   "codemirror_mode": {
    "name": "ipython",
    "version": 2
   },
   "file_extension": ".py",
   "mimetype": "text/x-python",
   "name": "python",
   "nbconvert_exporter": "python",
   "pygments_lexer": "ipython2",
   "version": "2.7.6"
  }
 },
 "nbformat": 4,
 "nbformat_minor": 5
}
